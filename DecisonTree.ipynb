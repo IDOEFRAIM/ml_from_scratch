{
 "cells": [
  {
   "cell_type": "code",
   "execution_count": 7,
   "id": "41dbda30-0b3a-4130-bf0b-aca7aca5b368",
   "metadata": {},
   "outputs": [],
   "source": [
    "import matplotlib.pyplot as plt\n",
    "import numpy as np"
   ]
  },
  {
   "cell_type": "code",
   "execution_count": 101,
   "id": "4013acfc-7f95-4441-b99e-caf886928c62",
   "metadata": {},
   "outputs": [],
   "source": [
    "X_train = np.array([[1,1,1],[1,0,1],[1,0,0],[1,0,0],[1,1,1],[0,1,1],[0,0,0],[1,0,1],[0,1,0],[1,0,0]])\n",
    "y_train = np.array([1,1,0,0,1,0,0,1,1,0])\n",
    "\n",
    "node_indices = [i for i in range(X_train.shape[0])]\n"
   ]
  },
  {
   "cell_type": "code",
   "execution_count": 102,
   "id": "9878c511-025e-48c7-a15b-337ea41e3bf2",
   "metadata": {},
   "outputs": [
    {
     "data": {
      "text/plain": [
       "10"
      ]
     },
     "execution_count": 102,
     "metadata": {},
     "output_type": "execute_result"
    }
   ],
   "source": [
    "X_train.shape[0]"
   ]
  },
  {
   "cell_type": "code",
   "execution_count": 123,
   "id": "e8a54b1b-7aee-4da6-aee4-6372e7ecbbf7",
   "metadata": {},
   "outputs": [],
   "source": [
    "def entropy(y):\n",
    "    entropy = 0\n",
    "    if len(y)!=0:\n",
    "        ones = y[y==1]\n",
    "        p1 = len(ones)/len(y)\n",
    "        print(p1)\n",
    "        if p1!=0 and p1!=1:\n",
    "            entropy = -(p1*np.log2(p1)+(1-p1)*np.log2(1-p1))\n",
    "        else:\n",
    "            entropy = 0\n",
    "\n",
    "        #print(f'Entropy is {entropy}') Just for seing entropy value\n",
    "    return entropy"
   ]
  },
  {
   "cell_type": "code",
   "execution_count": 104,
   "id": "797da5eb-9602-441b-859c-c7563d4a5798",
   "metadata": {},
   "outputs": [
    {
     "name": "stdout",
     "output_type": "stream",
     "text": [
      "0.5\n",
      "Entropy is 1.0\n",
      "1.0\n"
     ]
    }
   ],
   "source": [
    "print(entropy(y_train))"
   ]
  },
  {
   "cell_type": "code",
   "execution_count": 154,
   "id": "6809599c-9745-46a9-92dc-79d2fbfe03a9",
   "metadata": {},
   "outputs": [],
   "source": [
    "def split_dataset(X,node_indices,feature):\n",
    "    \n",
    "    left_indices = []\n",
    "    right_indices = []\n",
    "    for i in node_indices: #Remember range is exclusive ;so we need to add one step in our loop\n",
    "        if X[i][feature] == 0:\n",
    "            left_indices.append(i)\n",
    "        else:\n",
    "            right_indices.append(i)\n",
    "            \n",
    "    return left_indices,right_indices"
   ]
  },
  {
   "cell_type": "code",
   "execution_count": 155,
   "id": "79f7e5e0-1295-4aa9-a746-156665dce314",
   "metadata": {},
   "outputs": [],
   "source": [
    "feature = 0\n",
    "left_split,right_split = split_dataset(X_train,node_indices,feature)"
   ]
  },
  {
   "cell_type": "code",
   "execution_count": 156,
   "id": "bfe88d53-1f39-4061-87f5-bec86a1000bd",
   "metadata": {},
   "outputs": [
    {
     "name": "stdout",
     "output_type": "stream",
     "text": [
      "[5, 6, 8] [0, 1, 2, 3, 4, 7, 9]\n",
      "[[0 1 1]\n",
      " [0 0 0]\n",
      " [0 1 0]]\n"
     ]
    }
   ],
   "source": [
    "print(left_split,right_split )\n",
    "print(X_train[left_split])"
   ]
  },
  {
   "cell_type": "code",
   "execution_count": 148,
   "id": "adec6e21-c79c-488a-baf1-2e1dfc859564",
   "metadata": {},
   "outputs": [],
   "source": [
    "def information_gain(X,y,node_indices,feature):\n",
    "    #We split the data \n",
    "    left_split,right_split = split_dataset(X_train,node_indices,feature)\n",
    "\n",
    "    \n",
    "    X_node,y_node   = X[node_indices],y[node_indices]\n",
    "    X_left,y_left   = X[left_split],y[left_split]\n",
    "    X_right,y_right = X[right_split],y[right_split]\n",
    "\n",
    "    w_left,w_right = len(X_left)/ len(X_node) , len(X_right) / len(X_node)\n",
    "\n",
    "    H_node = entropy(y_node)\n",
    "    H_left = entropy(y_left)\n",
    "    H_right = entropy(y_right)\n",
    "\n",
    "    info_gain = H_node - (w_left * H_left + w_right * H_right)\n",
    "    return info_gain"
   ]
  },
  {
   "cell_type": "code",
   "execution_count": 149,
   "id": "f5659260-1ce0-4aee-abfa-41e16ff62b39",
   "metadata": {},
   "outputs": [
    {
     "name": "stdout",
     "output_type": "stream",
     "text": [
      "0.5\n",
      "0.3333333333333333\n",
      "0.5714285714285714\n"
     ]
    }
   ],
   "source": [
    "info_gain = information_gain(X_train,y_train,node_indices,feature)"
   ]
  },
  {
   "cell_type": "code",
   "execution_count": 163,
   "id": "2781ec2f-0605-4b87-8527-518b8546214a",
   "metadata": {},
   "outputs": [],
   "source": [
    "def best_split(X,y,node_indices):\n",
    "    feature_set = X.shape[1]\n",
    "    best_feature = -1\n",
    "    \n",
    "    max_information_gain = 0\n",
    "    info = 0\n",
    "    #print(information_gain(X,y,node_indices,0))\n",
    "    for feature in range(feature_set):\n",
    "        #print(f'Round {feature}')\n",
    "        \n",
    "        info_gain_potential = information_gain(X_train,y_train,node_indices,feature)\n",
    "        \n",
    "        #print(f'Info_gain: {info_gain_potential}')\n",
    "        if info_gain_potential > max_information_gain :\n",
    "            max_information_gain = info_gain_potential\n",
    "            best_feature = feature\n",
    "\n",
    "    return best_feature"
   ]
  },
  {
   "cell_type": "code",
   "execution_count": 165,
   "id": "04473182-60e2-40b0-bcac-af9c6e3fd137",
   "metadata": {},
   "outputs": [
    {
     "name": "stdout",
     "output_type": "stream",
     "text": [
      "0.5\n",
      "0.3333333333333333\n",
      "0.5714285714285714\n",
      "0.5\n",
      "0.3333333333333333\n",
      "0.75\n",
      "0.5\n",
      "0.2\n",
      "0.8\n"
     ]
    }
   ],
   "source": [
    "best_feature = best_split(X_train,y_train,node_indices)"
   ]
  },
  {
   "cell_type": "code",
   "execution_count": 166,
   "id": "e0212590-3b52-4e73-8184-5633a715f40a",
   "metadata": {},
   "outputs": [
    {
     "name": "stdout",
     "output_type": "stream",
     "text": [
      "2\n"
     ]
    }
   ],
   "source": [
    "print(best_feature)"
   ]
  },
  {
   "cell_type": "code",
   "execution_count": 176,
   "id": "7ea90728-b872-44c1-a61f-ba743bdb6a93",
   "metadata": {},
   "outputs": [],
   "source": [
    "tree = []\n",
    "def build_tree(X,y,node_indices,branch_name,max_depth,current_depth):\n",
    "    if current_depth == max_depth: # When we are in the maximum depth ,we stop\n",
    "        print('Max tree has been reached')\n",
    "        return\n",
    "\n",
    "    best_feature = best_split(X,y,node_indices) # We search the best feature for spliting data\n",
    "\n",
    "    left_indices,right_indices = split_dataset(X,node_indices,best_feature)\n",
    "    tree.append((left_indices,right_indices,best_feature))\n",
    "\n",
    "    build_tree(X,y,left_indices,'Left',max_depth,current_depth+1) # We build the left side of the tree\n",
    "    build_tree(X,y,right_indices,'Right',max_depth,current_depth+1) # We build the right side of the tree\n",
    "\n"
   ]
  },
  {
   "cell_type": "code",
   "execution_count": 177,
   "id": "2f922c00-4490-4ec6-884f-7f55d8462c8e",
   "metadata": {},
   "outputs": [
    {
     "name": "stdout",
     "output_type": "stream",
     "text": [
      "0.5\n",
      "0.3333333333333333\n",
      "0.5714285714285714\n",
      "0.5\n",
      "0.3333333333333333\n",
      "0.75\n",
      "0.5\n",
      "0.2\n",
      "0.8\n",
      "0.2\n",
      "0.5\n",
      "0.0\n",
      "0.2\n",
      "0.0\n",
      "1.0\n",
      "0.2\n",
      "0.2\n",
      "Max tree has been reached\n",
      "Max tree has been reached\n",
      "0.8\n",
      "0.0\n",
      "1.0\n",
      "0.8\n",
      "1.0\n",
      "0.6666666666666666\n",
      "0.8\n",
      "0.8\n",
      "Max tree has been reached\n",
      "Max tree has been reached\n"
     ]
    }
   ],
   "source": [
    "build_tree(X_train,y_train,node_indices,'Node',max_depth=2,current_depth=0)\n"
   ]
  },
  {
   "cell_type": "code",
   "execution_count": 178,
   "id": "73d95dd0-7321-4bb8-b562-4f48de110b23",
   "metadata": {},
   "outputs": [
    {
     "data": {
      "text/plain": [
       "[([2, 3, 6, 8, 9], [0, 1, 4, 5, 7], 2),\n",
       " ([2, 3, 6, 9], [8], 1),\n",
       " ([5], [0, 1, 4, 7], 0)]"
      ]
     },
     "execution_count": 178,
     "metadata": {},
     "output_type": "execute_result"
    }
   ],
   "source": [
    "tree"
   ]
  },
  {
   "cell_type": "code",
   "execution_count": null,
   "id": "00926143-2696-41e8-94e5-c0ecfec3db08",
   "metadata": {},
   "outputs": [],
   "source": []
  }
 ],
 "metadata": {
  "kernelspec": {
   "display_name": "Python 3 (ipykernel)",
   "language": "python",
   "name": "python3"
  },
  "language_info": {
   "codemirror_mode": {
    "name": "ipython",
    "version": 3
   },
   "file_extension": ".py",
   "mimetype": "text/x-python",
   "name": "python",
   "nbconvert_exporter": "python",
   "pygments_lexer": "ipython3",
   "version": "3.13.5"
  }
 },
 "nbformat": 4,
 "nbformat_minor": 5
}
